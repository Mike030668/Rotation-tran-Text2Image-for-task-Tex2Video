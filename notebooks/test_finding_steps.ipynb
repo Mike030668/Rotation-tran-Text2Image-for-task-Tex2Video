{
 "cells": [
  {
   "cell_type": "code",
   "execution_count": 60,
   "metadata": {},
   "outputs": [],
   "source": [
    "project_path = \"G:/Другие компьютеры/My_comp/Документы/МФТИ_Наука_о_данных/Spliter_Text2Movi_Kandinskiy_22\"\n",
    "import sys\n",
    "sys.path.insert(1, project_path + \"/utills\")\n",
    "from step_points import ComputeDiffPoints\n",
    "import numpy as np"
   ]
  },
  {
   "cell_type": "markdown",
   "metadata": {},
   "source": [
    "# Construct method to find points of start and end fragments movi"
   ]
  },
  {
   "cell_type": "code",
   "execution_count": 61,
   "metadata": {},
   "outputs": [],
   "source": [
    "cdp = ComputeDiffPoints()"
   ]
  },
  {
   "cell_type": "markdown",
   "metadata": {},
   "source": [
    "## init rand data"
   ]
  },
  {
   "cell_type": "code",
   "execution_count": 62,
   "metadata": {},
   "outputs": [
    {
     "name": "stdout",
     "output_type": "stream",
     "text": [
      "[ 0 31 32 16 97 75 23 89 73 51 76 55 66 40  9 15 95 44 39 19 99]\n",
      "Time labels [ 0 31 32 16 97 75 23 89 73 51 76 55 66 40  9 15 95 44 39 19 99]\n",
      "\n",
      "\n",
      "Norm_way\n",
      "Start base point 0\n",
      "Base normal points [31 32 16 97 75 23 89 73 51 76 55 66 40  9 15 95 44 39 19 99]\n",
      "\n",
      "\n",
      "\n",
      "Back_way\n",
      "Start base back_point 0\n",
      "Base back points [80 60 55  4 84 90 59 33 44 23 48 26 10 76 24  2 83 67 68 99]\n",
      "\n",
      "\n"
     ]
    }
   ],
   "source": [
    "# make set rand embeddings for tests\n",
    "batch = 20\n",
    "MAX_LEN_MOVI = 100\n",
    "\n",
    "# make set time_labels\n",
    "labels = np.random.choice(np.arange(1, MAX_LEN_MOVI), batch+1, replace=False)\n",
    "\n",
    "# start and end points to use for start normal and back ways\n",
    "labels[0] = 0\n",
    "labels[-1] = MAX_LEN_MOVI-1\n",
    "\n",
    "print(labels)\n",
    "cdp.time_labels = labels\n",
    "config_norm, config_back = cdp.getpoints_train()\n",
    "\n",
    "print(f\"Time labels {labels}\\n\")\n",
    "print('\\nNorm_way')\n",
    "print(f\"Start base point {cdp.s_point}\")\n",
    "print(f\"Base normal points {cdp.points}\\n\\n\")\n",
    "print('\\nBack_way')\n",
    "print(f\"Start base back_point {cdp.back_s_point}\")\n",
    "print(f\"Base back points {cdp.back_points}\\n\\n\")"
   ]
  },
  {
   "cell_type": "markdown",
   "metadata": {},
   "source": [
    "## compute normal and back points for rotation steps"
   ]
  },
  {
   "cell_type": "code",
   "execution_count": 63,
   "metadata": {},
   "outputs": [
    {
     "name": "stdout",
     "output_type": "stream",
     "text": [
      "Time labels [ 0 31 32 16 97 75 23 89 73 51 76 55 66 40  9 15 95 44 39 19 99]\n",
      "\n",
      "\n",
      "Norm rotation way\n",
      "Base normal points [31 32 16 97 75 23 89 73 51 76 55 66 40  9 15 95 44 39 19 99] for start rotation steps \n",
      "\n",
      "ID image and text start rotation points [2, 5, 13, 14, 18, 0, 2, 5, 13, 14, 18, 13, 14, 0, 1, 2, 4, 5, 6, 7, 8, 9, 10, 11, 12, 13, 14, 15, 16, 17, 18, 0, 1, 2, 5, 7, 8, 10, 11, 12, 13, 14, 16, 17, 18, 2, 13, 14, 18, 0, 1, 2, 4, 5, 7, 8, 9, 10, 11, 12, 13, 14, 16, 17, 18, 0, 1, 2, 5, 8, 10, 11, 12, 13, 14, 16, 17, 18, 0, 1, 2, 5, 12, 13, 14, 16, 17, 18, 0, 1, 2, 4, 5, 7, 8, 10, 11, 12, 13, 14, 16, 17, 18, 0, 1, 2, 5, 8, 12, 13, 14, 16, 17, 18, 0, 1, 2, 5, 8, 10, 12, 13, 14, 16, 17, 18, 0, 1, 2, 5, 13, 14, 17, 18, 13, 0, 1, 2, 4, 5, 6, 7, 8, 9, 10, 11, 12, 13, 14, 16, 17, 18, 0, 1, 2, 5, 12, 13, 14, 17, 18, 0, 1, 2, 5, 13, 14, 18, 2, 13, 14, 0, 1, 2, 3, 4, 5, 6, 7, 8, 9, 10, 11, 12, 13, 14, 15, 16, 17, 18]\n",
      "ID uclip_emb start rotation points [2, 5, 13, 14, 18, 0, 2, 5, 13, 14, 18, 13, 14, 0, 1, 2, 4, 5, 6, 7, 8, 9, 10, 11, 12, 13, 14, 15, 16, 17, 18, 0, 1, 2, 5, 7, 8, 10, 11, 12, 13, 14, 16, 17, 18, 2, 13, 14, 18, 0, 1, 2, 4, 5, 7, 8, 9, 10, 11, 12, 13, 14, 16, 17, 18, 0, 1, 2, 5, 8, 10, 11, 12, 13, 14, 16, 17, 18, 0, 1, 2, 5, 12, 13, 14, 16, 17, 18, 0, 1, 2, 4, 5, 7, 8, 10, 11, 12, 13, 14, 16, 17, 18, 0, 1, 2, 5, 8, 12, 13, 14, 16, 17, 18, 0, 1, 2, 5, 8, 10, 12, 13, 14, 16, 17, 18, 0, 1, 2, 5, 13, 14, 17, 18, 13, 0, 1, 2, 4, 5, 6, 7, 8, 9, 10, 11, 12, 13, 14, 16, 17, 18, 0, 1, 2, 5, 12, 13, 14, 17, 18, 0, 1, 2, 5, 13, 14, 18, 2, 13, 14, 0, 1, 2, 3, 4, 5, 6, 7, 8, 9, 10, 11, 12, 13, 14, 15, 16, 17, 18]\n",
      "ID delta rotation points [0, 0, 0, 0, 0, 1, 1, 1, 1, 1, 1, 2, 2, 3, 3, 3, 3, 3, 3, 3, 3, 3, 3, 3, 3, 3, 3, 3, 3, 3, 3, 4, 4, 4, 4, 4, 4, 4, 4, 4, 4, 4, 4, 4, 4, 5, 5, 5, 5, 6, 6, 6, 6, 6, 6, 6, 6, 6, 6, 6, 6, 6, 6, 6, 6, 7, 7, 7, 7, 7, 7, 7, 7, 7, 7, 7, 7, 7, 8, 8, 8, 8, 8, 8, 8, 8, 8, 8, 9, 9, 9, 9, 9, 9, 9, 9, 9, 9, 9, 9, 9, 9, 9, 10, 10, 10, 10, 10, 10, 10, 10, 10, 10, 10, 11, 11, 11, 11, 11, 11, 11, 11, 11, 11, 11, 11, 12, 12, 12, 12, 12, 12, 12, 12, 14, 15, 15, 15, 15, 15, 15, 15, 15, 15, 15, 15, 15, 15, 15, 15, 15, 15, 16, 16, 16, 16, 16, 16, 16, 16, 16, 17, 17, 17, 17, 17, 17, 17, 18, 18, 18, 19, 19, 19, 19, 19, 19, 19, 19, 19, 19, 19, 19, 19, 19, 19, 19, 19, 19, 19]\n",
      "Delta between points [15, 8, 22, 16, 12, 1, 16, 9, 23, 17, 13, 7, 1, 66, 65, 81, 22, 74, 8, 24, 46, 21, 42, 31, 57, 88, 82, 2, 53, 58, 78, 44, 43, 59, 52, 2, 24, 20, 9, 35, 66, 60, 31, 36, 56, 7, 14, 8, 4, 58, 57, 73, 14, 66, 16, 38, 13, 34, 23, 49, 80, 74, 45, 50, 70, 42, 41, 57, 50, 22, 18, 7, 33, 64, 58, 29, 34, 54, 20, 19, 35, 28, 11, 42, 36, 7, 12, 32, 45, 44, 60, 1, 53, 3, 25, 21, 10, 36, 67, 61, 32, 37, 57, 24, 23, 39, 32, 4, 15, 46, 40, 11, 16, 36, 35, 34, 50, 43, 15, 11, 26, 57, 51, 22, 27, 47, 9, 8, 24, 17, 31, 25, 1, 21, 6, 64, 63, 79, 20, 72, 6, 22, 44, 19, 40, 29, 55, 86, 80, 51, 56, 76, 13, 12, 28, 21, 4, 35, 29, 5, 25, 8, 7, 23, 16, 30, 24, 20, 3, 10, 4, 68, 67, 83, 2, 24, 76, 10, 26, 48, 23, 44, 33, 59, 90, 84, 4, 55, 60, 80] normal points\n",
      "\n",
      "\n",
      "Norm rotation way\n",
      "Base back points [80 60 55  4 84 90 59 33 44 23 48 26 10 76 24  2 83 67 68 99] for start rotation back steps \n",
      "\n",
      "ID image and text start rotation points [1, 2, 3, 6, 7, 8, 9, 10, 11, 12, 13, 14, 15, 17, 18, 2, 3, 6, 7, 8, 9, 10, 11, 12, 14, 15, 3, 7, 8, 9, 10, 11, 12, 14, 15, 15, 0, 1, 2, 3, 6, 7, 8, 9, 10, 11, 12, 13, 14, 15, 16, 17, 18, 0, 1, 2, 3, 4, 6, 7, 8, 9, 10, 11, 12, 13, 14, 15, 16, 17, 18, 2, 3, 7, 8, 9, 10, 11, 12, 14, 15, 3, 9, 11, 12, 14, 15, 3, 7, 9, 11, 12, 14, 15, 3, 12, 15, 3, 7, 8, 9, 11, 12, 14, 15, 3, 9, 12, 14, 15, 3, 15, 1, 2, 3, 6, 7, 8, 9, 10, 11, 12, 14, 15, 17, 18, 3, 9, 12, 15, 0, 1, 2, 3, 6, 7, 8, 9, 10, 11, 12, 13, 14, 15, 17, 18, 1, 2, 3, 6, 7, 8, 9, 10, 11, 12, 14, 15, 1, 2, 3, 6, 7, 8, 9, 10, 11, 12, 14, 15, 17, 0, 1, 2, 3, 4, 5, 6, 7, 8, 9, 10, 11, 12, 13, 14, 15, 16, 17, 18] in base back points\n",
      "ID uclip_emb start rotation points [1, 2, 3, 6, 7, 8, 9, 10, 11, 12, 13, 14, 15, 17, 18, 2, 3, 6, 7, 8, 9, 10, 11, 12, 14, 15, 3, 7, 8, 9, 10, 11, 12, 14, 15, 15, 0, 1, 2, 3, 6, 7, 8, 9, 10, 11, 12, 13, 14, 15, 16, 17, 18, 0, 1, 2, 3, 4, 6, 7, 8, 9, 10, 11, 12, 13, 14, 15, 16, 17, 18, 2, 3, 7, 8, 9, 10, 11, 12, 14, 15, 3, 9, 11, 12, 14, 15, 3, 7, 9, 11, 12, 14, 15, 3, 12, 15, 3, 7, 8, 9, 11, 12, 14, 15, 3, 9, 12, 14, 15, 3, 15, 1, 2, 3, 6, 7, 8, 9, 10, 11, 12, 14, 15, 17, 18, 3, 9, 12, 15, 0, 1, 2, 3, 6, 7, 8, 9, 10, 11, 12, 13, 14, 15, 17, 18, 1, 2, 3, 6, 7, 8, 9, 10, 11, 12, 14, 15, 1, 2, 3, 6, 7, 8, 9, 10, 11, 12, 14, 15, 17, 0, 1, 2, 3, 4, 5, 6, 7, 8, 9, 10, 11, 12, 13, 14, 15, 16, 17, 18] in base back points\n",
      "ID delta rotation points [0, 0, 0, 0, 0, 0, 0, 0, 0, 0, 0, 0, 0, 0, 0, 1, 1, 1, 1, 1, 1, 1, 1, 1, 1, 1, 2, 2, 2, 2, 2, 2, 2, 2, 2, 3, 4, 4, 4, 4, 4, 4, 4, 4, 4, 4, 4, 4, 4, 4, 4, 4, 4, 5, 5, 5, 5, 5, 5, 5, 5, 5, 5, 5, 5, 5, 5, 5, 5, 5, 5, 6, 6, 6, 6, 6, 6, 6, 6, 6, 6, 7, 7, 7, 7, 7, 7, 8, 8, 8, 8, 8, 8, 8, 9, 9, 9, 10, 10, 10, 10, 10, 10, 10, 10, 11, 11, 11, 11, 11, 12, 12, 13, 13, 13, 13, 13, 13, 13, 13, 13, 13, 13, 13, 13, 13, 14, 14, 14, 14, 16, 16, 16, 16, 16, 16, 16, 16, 16, 16, 16, 16, 16, 16, 16, 16, 17, 17, 17, 17, 17, 17, 17, 17, 17, 17, 17, 17, 18, 18, 18, 18, 18, 18, 18, 18, 18, 18, 18, 18, 18, 19, 19, 19, 19, 19, 19, 19, 19, 19, 19, 19, 19, 19, 19, 19, 19, 19, 19, 19] in base back points\n",
      "Delta between points [20, 25, 76, 21, 47, 36, 57, 32, 54, 70, 4, 56, 78, 13, 12, 5, 56, 1, 27, 16, 37, 12, 34, 50, 36, 58, 51, 22, 11, 32, 7, 29, 45, 31, 53, 2, 4, 24, 29, 80, 25, 51, 40, 61, 36, 58, 74, 8, 60, 82, 1, 17, 16, 10, 30, 35, 86, 6, 31, 57, 46, 67, 42, 64, 80, 14, 66, 88, 7, 23, 22, 4, 55, 26, 15, 36, 11, 33, 49, 35, 57, 29, 10, 7, 23, 9, 31, 40, 11, 21, 18, 34, 20, 42, 19, 13, 21, 44, 15, 4, 25, 22, 38, 24, 46, 22, 3, 16, 2, 24, 6, 8, 16, 21, 72, 17, 43, 32, 53, 28, 50, 66, 52, 74, 9, 8, 20, 1, 14, 22, 3, 23, 28, 79, 24, 50, 39, 60, 35, 57, 73, 7, 59, 81, 16, 15, 7, 12, 63, 8, 34, 23, 44, 19, 41, 57, 43, 65, 8, 13, 64, 9, 35, 24, 45, 20, 42, 58, 44, 66, 1, 19, 39, 44, 95, 15, 9, 40, 66, 55, 76, 51, 73, 89, 23, 75, 97, 16, 32, 31] back points\n"
     ]
    }
   ],
   "source": [
    "print(f\"Time labels {labels}\")\n",
    "print('\\n\\nNorm rotation way')\n",
    "print(f\"Base normal points {cdp.points} for start rotation steps \\n\")\n",
    "id_img_emb_s = config_norm[\"id_img_emb_s\"]\n",
    "print(f\"ID image and text start rotation points {id_img_emb_s}\")\n",
    "id_uclip_emb = config_norm[\"id_uclip_emb\"]\n",
    "print(f\"ID uclip_emb start rotation points {id_uclip_emb}\")\n",
    "id_img_delta = config_norm[\"id_img_delta\"]\n",
    "print(f\"ID delta rotation points {id_img_delta}\")\n",
    "delta = config_norm[\"delta\"]\n",
    "print(f\"Delta between points {delta} normal points\")\n",
    "\n",
    "\n",
    "print('\\n\\nNorm rotation way')\n",
    "print(f\"Base back points {cdp.back_points} for start rotation back steps \\n\")\n",
    "id_img_emb_s = config_back[\"id_img_emb_s\"]\n",
    "print(f\"ID image and text start rotation points {id_img_emb_s} in base back points\")\n",
    "id_uclip_emb = config_back[\"id_uclip_emb\"]\n",
    "print(f\"ID uclip_emb start rotation points {id_uclip_emb} in base back points\")\n",
    "id_img_delta = config_back[\"id_img_delta\"]\n",
    "print(f\"ID delta rotation points {id_img_delta} in base back points\")\n",
    "delta = config_back[\"delta\"]\n",
    "print(f\"Delta between points {delta} back points\")\n"
   ]
  },
  {
   "cell_type": "markdown",
   "metadata": {},
   "source": [
    "## compute normal and back points for diff steps\n",
    "It will be used for prediction from prediction of model"
   ]
  },
  {
   "cell_type": "code",
   "execution_count": 64,
   "metadata": {},
   "outputs": [
    {
     "name": "stdout",
     "output_type": "stream",
     "text": [
      "Time labels [ 0 31 32 16 97 75 23 89 73 51 76 55 66 40  9 15 95 44 39 19 99]\n",
      "\n",
      "\n",
      "Norm diff way\n",
      "Base normal points [31 32 16 97 75 23 89 73 51 76 55 66 40  9 15 95 44 39 19 99]\n",
      "Next normal points [ 32  33  17  98  76  24  90  74  52  77  56  67  41  10  16  96  45  40\n",
      "  20 100] for diff steps \n",
      "\n",
      "ID image and text start diff points [2, 1, 2, 12, 1, 2] in base normal points\n",
      "ID uclip_emb start diff points [14, 0, 14, 17, 0, 14] in next normal points\n",
      "ID delta diff points [1, 9, 9, 9, 12, 12] in next normal points\n",
      "Delta between diff points [16, 44, 60, 36, 8, 24] in base normal points\n",
      "\n",
      "\n",
      "Norm rotation way\n",
      "Base back points [80 60 55  4 84 90 59 33 44 23 48 26 10 76 24  2 83 67 68 99]\n",
      "Next back points [ 81  61  56   5  85  91  60  34  45  24  49  27  11  77  25   3  84  68\n",
      "  69 100] for diff steps \n",
      "\n",
      "ID image and text start diff points [14, 1, 14, 18, 1, 14] in base back points\n",
      "ID uclip_emb start diff points [9, 6, 9, 17, 6, 9] in next back points\n",
      "ID delta diff points [1, 4, 4, 4, 18, 18] in next back points\n",
      "Delta between diff points [36, 24, 60, 16, 8, 44] back points\n"
     ]
    }
   ],
   "source": [
    "config_diff_norm, config_diff_back = cdp.getpoints_diftrain()\n",
    "\n",
    "print(f\"Time labels {labels}\")\n",
    "print('\\n\\nNorm diff way')\n",
    "print(f\"Base normal points {cdp.points}\")\n",
    "print(f\"Next normal points {cdp.next_points} for diff steps \\n\")\n",
    "id_img_emb_s = config_diff_norm[\"id_img_emb_s\"]\n",
    "print(f\"ID image and text start diff points {id_img_emb_s} in base normal points\")\n",
    "id_uclip_emb = config_diff_norm[\"id_uclip_emb\"]\n",
    "print(f\"ID uclip_emb start diff points {id_uclip_emb} in next normal points\")\n",
    "id_img_delta = config_diff_norm[\"id_img_delta\"]\n",
    "print(f\"ID delta diff points {id_img_delta} in next normal points\")\n",
    "delta = config_diff_norm[\"delta\"]\n",
    "print(f\"Delta between diff points {delta} in base normal points\")\n",
    "\n",
    "\n",
    "print('\\n\\nNorm rotation way')\n",
    "print(f\"Base back points {cdp.back_points}\")\n",
    "print(f\"Next back points {cdp.back_next_points} for diff steps \\n\")\n",
    "id_img_emb_s = config_diff_back[\"id_img_emb_s\"]\n",
    "print(f\"ID image and text start diff points {id_img_emb_s} in base back points\")\n",
    "id_uclip_emb = config_diff_back[\"id_uclip_emb\"]\n",
    "print(f\"ID uclip_emb start diff points {id_uclip_emb} in next back points\")\n",
    "id_img_delta = config_diff_back[\"id_img_delta\"]\n",
    "print(f\"ID delta diff points {id_img_delta} in next back points\")\n",
    "delta = config_diff_back[\"delta\"]\n",
    "print(f\"Delta between diff points {delta} back points\")"
   ]
  }
 ],
 "metadata": {
  "kernelspec": {
   "display_name": "Python 3",
   "language": "python",
   "name": "python3"
  },
  "language_info": {
   "codemirror_mode": {
    "name": "ipython",
    "version": 3
   },
   "file_extension": ".py",
   "mimetype": "text/x-python",
   "name": "python",
   "nbconvert_exporter": "python",
   "pygments_lexer": "ipython3",
   "version": "3.11.8"
  }
 },
 "nbformat": 4,
 "nbformat_minor": 2
}
